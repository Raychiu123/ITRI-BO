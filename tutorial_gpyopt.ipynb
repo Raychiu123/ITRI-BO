{
 "cells": [
  {
   "cell_type": "markdown",
   "metadata": {},
   "source": [
    "## 1. Install GPyOpt"
   ]
  },
  {
   "cell_type": "markdown",
   "metadata": {},
   "source": [
    "---------------------------------------------------------------------------\n",
    "### There are a number of dependencies that you need to install (using pip). Three of them are needed to ensure the good behaviour of the package:\n",
    "- GPy (>=1.0.8) \n",
    "- numpy (>=1.7)\n",
    "- scipy (>=0.16)\n",
    "\n",
    "### Command:\n",
    "* $ pip install GPt\n",
    "\n",
    "* $ pip install numpy\n",
    "\n",
    "* $ pip install scipy\n",
    "\n",
    "### After these three packages has been installed, we can download GPyOpt\n",
    "* $ pip install gpyopt"
   ]
  },
  {
   "cell_type": "markdown",
   "metadata": {},
   "source": [
    "## 2. How to use GPyOpt?"
   ]
  },
  {
   "cell_type": "code",
   "execution_count": 1,
   "metadata": {},
   "outputs": [
    {
     "name": "stdout",
     "output_type": "stream",
     "text": [
      "Populating the interactive namespace from numpy and matplotlib\n"
     ]
    }
   ],
   "source": [
    "%pylab inline  \n",
    "import GPy\n",
    "import GPyOpt\n",
    "from numpy.random import seed\n",
    "import matplotlib"
   ]
  },
  {
   "cell_type": "code",
   "execution_count": 2,
   "metadata": {},
   "outputs": [],
   "source": [
    "def myf(x):\n",
    "    return (x)**2"
   ]
  },
  {
   "cell_type": "code",
   "execution_count": 3,
   "metadata": {},
   "outputs": [
    {
     "data": {
      "text/plain": [
       "[<matplotlib.lines.Line2D at 0x7f8a2daa7198>]"
      ]
     },
     "execution_count": 3,
     "metadata": {},
     "output_type": "execute_result"
    },
    {
     "data": {
      "image/png": "[encoded data removed]",
      "text/plain": [
       "<Figure size 432x288 with 1 Axes>"
      ]
     },
     "metadata": {
      "needs_background": "light"
     },
     "output_type": "display_data"
    }
   ],
   "source": [
    "import numpy as np\n",
    "x = np.arange(-1, 1.05, 0.05)\n",
    "plot(x, myf(x))"
   ]
  },
  {
   "cell_type": "code",
   "execution_count": 4,
   "metadata": {},
   "outputs": [],
   "source": [
    "bounds = [{'name': 'var_1', 'domain': (-1,1)}]"
   ]
  },
  {
   "cell_type": "code",
   "execution_count": 17,
   "metadata": {},
   "outputs": [],
   "source": [
    "max_iter = 10"
   ]
  },
  {
   "cell_type": "code",
   "execution_count": 18,
   "metadata": {},
   "outputs": [],
   "source": [
    "myProblem = GPyOpt.methods.BayesianOptimization(myf,bounds)"
   ]
  },
  {
   "cell_type": "code",
   "execution_count": 19,
   "metadata": {},
   "outputs": [],
   "source": [
    "myProblem.run_optimization(max_iter)"
   ]
  },
  {
   "cell_type": "code",
   "execution_count": 20,
   "metadata": {},
   "outputs": [
    {
     "data": {
      "text/plain": [
       "array([0.00224798])"
      ]
     },
     "execution_count": 20,
     "metadata": {},
     "output_type": "execute_result"
    }
   ],
   "source": [
    "myProblem.x_opt"
   ]
  },
  {
   "cell_type": "code",
   "execution_count": 21,
   "metadata": {},
   "outputs": [
    {
     "data": {
      "text/plain": [
       "5.053436286151084e-06"
      ]
     },
     "execution_count": 21,
     "metadata": {},
     "output_type": "execute_result"
    }
   ],
   "source": [
    "myProblem.fx_opt"
   ]
  },
  {
   "cell_type": "markdown",
   "metadata": {},
   "source": [
    "## 3. Another example (one dimension)\n",
    "In this example we show how GPyOpt works in a one-dimensional example a bit more difficult that the one we analyzed in Section 3. Let's consider here the Forrester function\n",
    "\n",
    "$$f(x)=(6x−2)^2\\sin (12x−4)$$\n",
    "\n",
    "defined on the interval $[0,1]$\n",
    "\n",
    "The minimum of this function is located at xmin=0.78. The Forrester function is part of the benchmark of functions of GPyOpt."
   ]
  },
  {
   "cell_type": "code",
   "execution_count": 23,
   "metadata": {},
   "outputs": [],
   "source": [
    "# Create the true and perturbed Forrester function and the boundaries of the problem\n",
    "f_true= GPyOpt.objective_examples.experiments1d.forrester()          # noisy version\n",
    "bounds = [{'name': 'var_1', 'type': 'continuous', 'domain': (0,1)}]  # problem constraints "
   ]
  },
  {
   "cell_type": "code",
   "execution_count": 30,
   "metadata": {},
   "outputs": [
    {
     "data": {
      "image/png": "[encoded data removed]",
      "text/plain": [
       "<Figure size 432x288 with 1 Axes>"
      ]
     },
     "metadata": {
      "needs_background": "light"
     },
     "output_type": "display_data"
    }
   ],
   "source": [
    "f_true.plot()"
   ]
  },
  {
   "cell_type": "code",
   "execution_count": 31,
   "metadata": {},
   "outputs": [],
   "source": [
    "# Creates GPyOpt object with the model and anquisition fucntion\n",
    "seed(123)\n",
    "myBopt = GPyOpt.methods.BayesianOptimization(f=f_true.f,            # function to optimize       \n",
    "                                             domain=bounds,        # box-constraints of the problem\n",
    "                                             acquisition_type='EI',\n",
    "                                             exact_feval = True) # Selects the Expected improvement"
   ]
  },
  {
   "cell_type": "code",
   "execution_count": 32,
   "metadata": {},
   "outputs": [],
   "source": [
    "# Run the optimization\n",
    "max_iter = 10     # evaluation budget\n",
    "max_time = 60     # time budget \n",
    "eps      = 10e-6  # Minimum allows distance between two observations\n",
    "\n",
    "myBopt.run_optimization(max_iter, max_time, eps)"
   ]
  },
  {
   "cell_type": "code",
   "execution_count": 33,
   "metadata": {},
   "outputs": [
    {
     "data": {
      "image/png": "[encoded data removed]",
      "text/plain": [
       "<Figure size 432x288 with 1 Axes>"
      ]
     },
     "metadata": {
      "needs_background": "light"
     },
     "output_type": "display_data"
    }
   ],
   "source": [
    "myBopt.plot_acquisition()"
   ]
  },
  {
   "cell_type": "code",
   "execution_count": 34,
   "metadata": {},
   "outputs": [
    {
     "data": {
      "image/png": "[encoded data removed]",
      "text/plain": [
       "<Figure size 720x360 with 2 Axes>"
      ]
     },
     "metadata": {
      "needs_background": "light"
     },
     "output_type": "display_data"
    }
   ],
   "source": [
    "myBopt.plot_convergence()"
   ]
  },
  {
   "cell_type": "markdown",
   "metadata": {},
   "source": [
    "### Plot acquisition function in every iteration"
   ]
  },
  {
   "cell_type": "code",
   "execution_count": null,
   "metadata": {},
   "outputs": [],
   "source": [
    "# Creates GPyOpt object with the model and anquisition fucntion\n",
    "seed(123)\n",
    "myBopt = GPyOpt.methods.BayesianOptimization(f=f_true.f,            # function to optimize       \n",
    "                                             domain=bounds,        # box-constraints of the problem\n",
    "                                             acquisition_type='EI',\n",
    "                                             exact_feval = True) # Selects the Expected improvement"
   ]
  },
  {
   "cell_type": "code",
   "execution_count": null,
   "metadata": {},
   "outputs": [],
   "source": [
    "for i in range(max_iter):\n",
    "    myBopt.run_optimization(1, max_time, eps)\n",
    "    myBopt.plot_acquisition()"
   ]
  },
  {
   "cell_type": "markdown",
   "metadata": {},
   "source": [
    "## 4. Another example (two dimension)\n",
    "In this case we minimize the use the Six-hump camel function\n",
    "\n",
    "$$f(x_1,x_2)=\\Big(4−2.1x^2_1 + \\frac{x^4_1}{3} \\Big)x^2_1+x_1x_2+(−4+4x^2_2)x^2_2$$\n",
    "\n",
    "in $[−1,1]×[−2,2]$. This functions has two global minimum, at $(0.0898,−0.7126)$ and $(−0.0898,0.7126)$."
   ]
  },
  {
   "cell_type": "code",
   "execution_count": null,
   "metadata": {},
   "outputs": [],
   "source": [
    "# create the object function\n",
    "f_true = GPyOpt.objective_examples.experiments2d.sixhumpcamel()\n",
    "f_sim = GPyOpt.objective_examples.experiments2d.sixhumpcamel(sd = 0.1)\n",
    "bounds =[{'name': 'var_1', 'type': 'continuous', 'domain': f_true.bounds[0]},\n",
    "         {'name': 'var_2', 'type': 'continuous', 'domain': f_true.bounds[1]}]"
   ]
  },
  {
   "cell_type": "code",
   "execution_count": null,
   "metadata": {},
   "outputs": [],
   "source": [
    "f_true.plot()"
   ]
  },
  {
   "cell_type": "code",
   "execution_count": null,
   "metadata": {
    "scrolled": true
   },
   "outputs": [],
   "source": [
    "f_sim.plot()"
   ]
  },
  {
   "cell_type": "code",
   "execution_count": null,
   "metadata": {},
   "outputs": [],
   "source": [
    "from mpl_toolkits.mplot3d import Axes3D\n",
    "import matplotlib.pyplot as plt\n",
    "from matplotlib import cm\n",
    "from matplotlib.ticker import LinearLocator, FormatStrFormatter\n",
    "import numpy as np\n",
    "\n",
    "def f(x1,x2):\n",
    "    term1 = (4-2.1*x1**2+(x1**4)/3)*x1**2\n",
    "    term2 = x1*x2\n",
    "    term3 = (-4+4*x2**2)*x2**2\n",
    "    fval = term1 + term2 + term3\n",
    "    return fval\n",
    "\n",
    "fig = plt.figure()\n",
    "ax = fig.gca(projection='3d')\n",
    "\n",
    "#make data\n",
    "x1 = np.arange(-2,2,0.01)\n",
    "x2 = np.arange(-1,1,0.01)\n",
    "x1, x2 = np.meshgrid(x1, x2)\n",
    "Y = f(x1,x2)\n",
    "\n",
    "#plot the surface\n",
    "surf = ax.plot_surface(x1,x2,Y, cmap=cm.coolwarm,\n",
    "                      linewidth=0, antialiased=False)\n",
    "fig.colorbar(surf, shrink=0.5, aspect=5)\n",
    "\n",
    "plt.show()"
   ]
  },
  {
   "cell_type": "code",
   "execution_count": null,
   "metadata": {},
   "outputs": [],
   "source": [
    "# Creates three identical objects that we will later use to compare the optimization strategies \n",
    "myBopt2D = GPyOpt.methods.BayesianOptimization(f_sim.f,\n",
    "                                              domain=bounds,\n",
    "                                              model_type = 'GP',\n",
    "                                              acquisition_type='EI',  \n",
    "                                              normalize_Y = True,\n",
    "                                              acquisition_weight = 2)"
   ]
  },
  {
   "cell_type": "code",
   "execution_count": null,
   "metadata": {},
   "outputs": [],
   "source": [
    "# runs the optimization for the three methods\n",
    "max_iter = 30  # maximum time 40 iterations\n",
    "max_time = 60  # maximum time 60 seconds\n",
    "\n",
    "myBopt2D.run_optimization(max_iter,max_time,verbosity=False)     "
   ]
  },
  {
   "cell_type": "code",
   "execution_count": null,
   "metadata": {
    "scrolled": true
   },
   "outputs": [],
   "source": [
    "myBopt2D.plot_acquisition()"
   ]
  },
  {
   "cell_type": "code",
   "execution_count": null,
   "metadata": {},
   "outputs": [],
   "source": [
    "myBopt2D.plot_convergence()"
   ]
  },
  {
   "cell_type": "code",
   "execution_count": null,
   "metadata": {},
   "outputs": [],
   "source": [
    "myBopt2D.x_opt"
   ]
  },
  {
   "cell_type": "code",
   "execution_count": null,
   "metadata": {},
   "outputs": [],
   "source": [
    "myBopt2D.fx_opt"
   ]
  },
  {
   "cell_type": "markdown",
   "metadata": {},
   "source": [
    "### Plot acquisition function in every iteration"
   ]
  },
  {
   "cell_type": "code",
   "execution_count": null,
   "metadata": {},
   "outputs": [],
   "source": [
    "# Creates three identical objects that we will later use to compare the optimization strategies \n",
    "myBopt2D = GPyOpt.methods.BayesianOptimization(f_sim.f,\n",
    "                                              domain=bounds,\n",
    "                                              model_type = 'GP',\n",
    "                                              acquisition_type='EI',  \n",
    "                                              normalize_Y = True,\n",
    "                                              acquisition_weight = 2)"
   ]
  },
  {
   "cell_type": "code",
   "execution_count": null,
   "metadata": {},
   "outputs": [],
   "source": [
    "for i in range(max_iter):\n",
    "    myBopt2D.run_optimization(1,max_time,verbosity=False)\n",
    "    if i % 5 == 0:\n",
    "        myBopt2D.plot_acquisition()"
   ]
  },
  {
   "cell_type": "code",
   "execution_count": null,
   "metadata": {},
   "outputs": [],
   "source": [
    "myBopt2D.plot_convergence()"
   ]
  },
  {
   "cell_type": "code",
   "execution_count": null,
   "metadata": {},
   "outputs": [],
   "source": [
    "myBopt2D.x_opt"
   ]
  },
  {
   "cell_type": "code",
   "execution_count": null,
   "metadata": {},
   "outputs": [],
   "source": [
    "myBopt2D.fx_opt"
   ]
  },
  {
   "cell_type": "markdown",
   "metadata": {},
   "source": [
    "## Reference\n",
    "GPyOpt web: https://sheffieldml.github.io/GPyOpt/"
   ]
  },
  {
   "cell_type": "code",
   "execution_count": null,
   "metadata": {},
   "outputs": [],
   "source": []
  }
 ],
 "metadata": {
  "kernelspec": {
   "display_name": "Python 3",
   "language": "python",
   "name": "python3"
  },
  "language_info": {
   "codemirror_mode": {
    "name": "ipython",
    "version": 3
   },
   "file_extension": ".py",
   "mimetype": "text/x-python",
   "name": "python",
   "nbconvert_exporter": "python",
   "pygments_lexer": "ipython3",
   "version": "3.6.8"
  }
 },
 "nbformat": 4,
 "nbformat_minor": 2
}
